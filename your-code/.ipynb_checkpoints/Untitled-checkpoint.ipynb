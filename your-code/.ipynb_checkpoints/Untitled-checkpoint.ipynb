{
 "cells": [
  {
   "cell_type": "code",
   "execution_count": 43,
   "metadata": {},
   "outputs": [
    {
     "data": {
      "text/plain": [
       "''"
      ]
     },
     "execution_count": 43,
     "metadata": {},
     "output_type": "execute_result"
    }
   ],
   "source": [
    "string1 = [\"Data analysis has'' multiple .facets. and approaches, en names, while  business, science science domains.\"]\n",
    "string_lower = []\n",
    "\n",
    "def to_lower_case (string):\n",
    "    string_no_punctuation = []\n",
    "    for i in string:\n",
    "        string_lower = i.strip('.')\n",
    "    return re.sub(string_lower, '', i)\n",
    "\n",
    "\n",
    "to_lower_case (string1)"
   ]
  },
  {
   "cell_type": "code",
   "execution_count": 34,
   "metadata": {},
   "outputs": [
    {
     "data": {
      "text/plain": [
       "['Data',\n",
       " 'analysis',\n",
       " 'has',\n",
       " 'multiple',\n",
       " 'facets',\n",
       " 'and',\n",
       " 'approaches',\n",
       " 'en',\n",
       " 'names',\n",
       " 'while',\n",
       " 'business',\n",
       " 'science',\n",
       " 'science',\n",
       " 'domains']"
      ]
     },
     "execution_count": 34,
     "metadata": {},
     "output_type": "execute_result"
    }
   ],
   "source": [
    "string1 = [\"Data analysis has'' multiple. facets and approaches, en names, while  business, science science domains.\"]\n",
    "string_lower = []\n",
    "\n",
    "def remove_punctuation (string):\n",
    "    import re\n",
    "    for i in string:\n",
    "        string_no_punctuation = re.findall('[\\w]+', i)\n",
    "    return string_no_punctuation\n",
    "\n",
    "\n",
    "remove_punctuation (string1)\n",
    "\n"
   ]
  },
  {
   "cell_type": "code",
   "execution_count": 40,
   "metadata": {},
   "outputs": [
    {
     "data": {
      "text/plain": [
       "\"Data analysis has'' . facets and approaches, en names, while  business, science science domains.\""
      ]
     },
     "execution_count": 40,
     "metadata": {},
     "output_type": "execute_result"
    }
   ],
   "source": [
    "string1 = [\"Data analysis has'' <multiple>. facets and approaches, en names, while  business, science science domains.\"]\n",
    "string_lower = []\n",
    "\n",
    "def strip_html_tags (string):\n",
    "    import re\n",
    "    for i in string:\n",
    "        string_no_tags = re.compile('<.*?>')\n",
    "    return re.sub(string_no_tags, '', i)\n",
    "\n",
    "\n",
    "strip_html_tags (string1)\n",
    "\n",
    "\n",
    "\n"
   ]
  },
  {
   "cell_type": "code",
   "execution_count": null,
   "metadata": {},
   "outputs": [],
   "source": []
  }
 ],
 "metadata": {
  "kernelspec": {
   "display_name": "Python 3",
   "language": "python",
   "name": "python3"
  },
  "language_info": {
   "codemirror_mode": {
    "name": "ipython",
    "version": 3
   },
   "file_extension": ".py",
   "mimetype": "text/x-python",
   "name": "python",
   "nbconvert_exporter": "python",
   "pygments_lexer": "ipython3",
   "version": "3.7.4"
  }
 },
 "nbformat": 4,
 "nbformat_minor": 2
}
