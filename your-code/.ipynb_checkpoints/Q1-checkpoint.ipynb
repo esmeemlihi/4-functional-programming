{
 "cells": [
  {
   "cell_type": "markdown",
   "metadata": {},
   "source": [
    "In the cell below, create a Python function that wraps your previous solution for the Bag of Words lab.\n",
    "\n",
    "Requirements:\n",
    "\n",
    "1. Your function should accept the following parameters:\n",
    "    * `docs` [REQUIRED] - array of document paths.\n",
    "    * `stop_words` [OPTIONAL] - array of stop words. The default value is an empty array.\n",
    "\n",
    "1. Your function should return a Python object that contains the following:\n",
    "    * `bag_of_words` - array of strings of normalized unique words in the corpus.\n",
    "    * `term_freq` - array of the term-frequency vectors."
   ]
  },
  {
   "cell_type": "code",
   "execution_count": 38,
   "metadata": {},
   "outputs": [
    {
     "name": "stdout",
     "output_type": "stream",
     "text": [
      "['doc1.txt', 'doc3.txt', 'doc2.txt']\n",
      "['/Users/greg/Desktop/Data lab Ironhack/data-labs/module-1/lab-string-operations/your-code/doc1.txt', '/Users/greg/Desktop/Data lab Ironhack/data-labs/module-1/lab-string-operations/your-code/doc3.txt', '/Users/greg/Desktop/Data lab Ironhack/data-labs/module-1/lab-string-operations/your-code/doc2.txt']\n"
     ]
    }
   ],
   "source": [
    "# Import required libraries\n",
    "\n",
    "import os\n",
    "import pandas as pd\n",
    "\n",
    "# directorty_path = os.getcwd() # the generic function \n",
    "directorty_path = '/Users/greg/Desktop/Data lab Ironhack/data-labs/module-1/lab-string-operations/your-code'\n",
    "\n",
    "\n",
    "file_list = [file for file in os.listdir(directorty_path) if file.endswith('.txt')] \n",
    "\n",
    "print (file_list)\n",
    "\n",
    "file_dir_list = []\n",
    "\n",
    "for el in file_list: \n",
    "    full_name = os.path.join(directorty_path, el) #the path to join, the file name itself \n",
    "    file_dir_list.append(full_name)\n",
    "    \n",
    "print (file_dir_list)\n",
    "\n",
    "\n",
    "# Define function\n",
    "def get_bow_from_docs(docs, stop_words=[]):\n",
    "    \n",
    "    # In the function, first define the variables you will use such as `corpus`, `bag_of_words`, and `term_freq`.\n",
    "    \n",
    "    \"\"\"\n",
    "    Loop `docs` and read the content of each doc into a string in `corpus`.\n",
    "    Remember to convert the doc content to lowercases and remove punctuation.\n",
    "    \"\"\"\n",
    "    corpus =[]\n",
    "\n",
    "    for i in docs:\n",
    "        # prepare reading \n",
    "        file = open(i, \"r\")\n",
    "        # reading it and adding it to corpus list \n",
    "        corpus.append(file.read())\n",
    "    \n",
    "    import re\n",
    "\n",
    "    # list of list of docs : [[ list doc1],[ list doc2],[ list doc2]] \n",
    "    corpus1 =[]\n",
    "\n",
    "    for i in corpus:\n",
    "        x = (i.lower())\n",
    "        y =(re.findall('[\\w]+', x))\n",
    "        corpus1.append(y)\n",
    "        \n",
    "    corpus2 =[]\n",
    "\n",
    "    for i in corpus:\n",
    "        x = (i.lower())\n",
    "        y =(re.findall('[\\w]+', x))\n",
    "        corpus2 = corpus2 + y\n",
    "\n",
    "    # list of unique bag or words : [uniqueword1, uniqueword2, uniqueword3, ... ] \n",
    "    bag_of_words=[]\n",
    "\n",
    "    for i in corpus2:\n",
    "        if i not in bag_of_words:\n",
    "            bag_of_words.append(i)\n",
    "\n",
    "\n",
    "  \n",
    "    \n",
    "    \n",
    "    \"\"\"\n",
    "    Loop `corpus`. Append the terms in each doc into the `bag_of_words` array. The terms in `bag_of_words` \n",
    "    should be unique which means before adding each term you need to check if it's already added to the array.\n",
    "    In addition, check if each term is in the `stop_words` array. Only append the term to `bag_of_words`\n",
    "    if it is not a stop word.\n",
    "    \"\"\"\n",
    "\n",
    "    # still to write....\n",
    "    \n",
    "    \n",
    "    \"\"\"\n",
    "    Loop `corpus` again. For each doc string, count the number of occurrences of each term in `bag_of_words`. \n",
    "    Create an array for each doc's term frequency and append it to `term_freq`.\n",
    "    \"\"\"\n",
    "\n",
    "    \n",
    "    doc1 = []\n",
    "    doc2 = []\n",
    "    doc3 = []\n",
    "\n",
    "    term_freq = [doc1, doc2, doc3]\n",
    "\n",
    "    count = 0 \n",
    "\n",
    "    for word in bag_of_words:\n",
    "        for corp in corpus1:\n",
    "        \n",
    "            if count == 0:\n",
    "                count += 1\n",
    "                if word in corp:\n",
    "                    doc1.append(1)           \n",
    "                else:\n",
    "                    doc1.append(0)\n",
    "                    \n",
    "                \n",
    "            elif count == 1: \n",
    "                count += 1\n",
    "                if word in corp:\n",
    "                    doc2.append(1) \n",
    "                else:\n",
    "                    doc2.append(0)\n",
    "                \n",
    "                \n",
    "            else:\n",
    "                count = 0 \n",
    "                if word in corp:\n",
    "                    doc3.append(1)\n",
    "                else:\n",
    "                    doc3.append(0)\n",
    "    \n",
    "    # Now return your output as an object\n",
    "    return {\n",
    "        \"bag_of_words\": bag_of_words,\n",
    "        \"term_freq\": term_freq\n",
    "    }\n",
    "    \n",
    "    \n",
    "   \n",
    "\n",
    "    "
   ]
  },
  {
   "cell_type": "markdown",
   "metadata": {},
   "source": [
    "Test your function without stop words. You should see the output like below:\n",
    "\n",
    "```{'bag_of_words': ['ironhack', 'is', 'cool', 'i', 'love', 'am', 'a', 'student', 'at'], 'term_freq': [[1, 1, 1, 0, 0, 0, 0, 0, 0], [1, 0, 0, 1, 1, 0, 0, 0, 0], [1, 0, 0, 1, 0, 1, 1, 1, 1]]}```"
   ]
  },
  {
   "cell_type": "code",
   "execution_count": 34,
   "metadata": {},
   "outputs": [
    {
     "name": "stdout",
     "output_type": "stream",
     "text": [
      "{'bag_of_words': ['ironhack', 'is', 'cool', 'i', 'am', 'a', 'student', 'at', 'love'], 'term_freq': [[1, 1, 1, 0, 0, 0, 0, 0, 0], [1, 0, 0, 1, 1, 1, 1, 1, 0], [1, 0, 0, 1, 0, 0, 0, 0, 1]]}\n"
     ]
    }
   ],
   "source": [
    "# Define doc paths array\n",
    "docs = file_dir_list\n",
    "\n",
    "# Obtain BoW from your function\n",
    "bow = get_bow_from_docs(docs)\n",
    "\n",
    "# Print BoW\n",
    "print(bow)"
   ]
  },
  {
   "cell_type": "markdown",
   "metadata": {},
   "source": [
    "If your attempt above is successful, nice work done!\n",
    "\n",
    "Now test your function again with the stop words. In the previous lab we defined the stop words in a large array. In this lab, we'll import the stop words from Scikit-Learn."
   ]
  },
  {
   "cell_type": "code",
   "execution_count": 40,
   "metadata": {},
   "outputs": [
    {
     "name": "stdout",
     "output_type": "stream",
     "text": [
      "frozenset({'becoming', 'over', 'by', 'inc', 'even', 'therefore', 'to', 'into', 'un', 'beyond', 'cry', 'thus', 'noone', 'the', 'empty', 'due', 'well', 'or', 'herein', 'yet', 'first', 'its', 'whatever', 'found', 'which', 'eleven', 'fifteen', 'after', 'bill', 'them', 'other', 'again', 'four', 'hereby', 'under', 'whence', 'at', 'thereby', 'why', 'always', 'ours', 'then', 'before', 'fill', 'others', 'itself', 'perhaps', 'yourselves', 'nothing', 'off', 'down', 'when', 'both', 'towards', 'mostly', 'each', 'rather', 'toward', 'anyhow', 'further', 'everything', 'hereupon', 'amount', 'an', 'his', 'less', 'except', 'third', 'elsewhere', 'more', 'mill', 'since', 'ten', 'now', 'were', 'am', 'only', 'there', 'sincere', 'take', 'too', 'alone', 'amoungst', 'serious', 'none', 'here', 'twenty', 'may', 'whom', 'top', 'hasnt', 'however', 'these', 'from', 'through', 'ltd', 'thru', 'has', 'one', 'fire', 'system', 'etc', 'do', 'nevertheless', 'wherein', 'name', 'made', 'becomes', 'often', 'some', 'three', 'her', 'across', 'also', 'not', 'part', 'done', 'moreover', 'mine', 'but', 'throughout', 'keep', 'eg', 'they', 'seems', 'back', 'six', 'behind', 'themselves', 'in', 'someone', 'herself', 'de', 'describe', 'go', 'out', 'seem', 'if', 'your', 'meanwhile', 'last', 'i', 'without', 'we', 'put', 'together', 'once', 'will', 'a', 'latterly', 'afterwards', 'any', 'than', 'about', 'nine', 'is', 'such', 'five', 'whereafter', 'until', 'of', 'up', 'whoever', 'among', 'fifty', 'our', 'otherwise', 'could', 'never', 'many', 'sometimes', 'hundred', 'several', 'next', 'forty', 'everywhere', 'give', 'us', 'per', 'it', 'move', 'have', 'as', 'all', 'another', 'almost', 'couldnt', 'namely', 'and', 'thence', 'those', 'this', 'formerly', 'thereafter', 'ever', 'somewhere', 'for', 'ourselves', 'anyway', 'latter', 'cannot', 'because', 'be', 'former', 'thereupon', 'onto', 'least', 'around', 'indeed', 'whereas', 'seeming', 'against', 'sometime', 'full', 'himself', 'during', 'thin', 'else', 'sixty', 'very', 'side', 'somehow', 'via', 'so', 'was', 'seemed', 'been', 'myself', 'while', 'though', 'on', 'can', 'something', 'anything', 'he', 'whether', 'nor', 'every', 'everyone', 'find', 'anywhere', 'beside', 'whereby', 'whole', 'bottom', 'hence', 'that', 'above', 'yours', 'amongst', 'neither', 're', 'see', 'detail', 'within', 'please', 'should', 'must', 'much', 'front', 'you', 'are', 'twelve', 'interest', 'therein', 'had', 'where', 'became', 'call', 'co', 'hereafter', 'most', 'already', 'she', 'him', 'few', 'beforehand', 'thick', 'either', 'get', 'yourself', 'eight', 'might', 'anyone', 'what', 'cant', 'hers', 'along', 'whenever', 'nowhere', 'show', 'upon', 'same', 'no', 'my', 'con', 'with', 'being', 'below', 'whither', 'enough', 'would', 'become', 'their', 'although', 'still', 'nobody', 'two', 'whereupon', 'wherever', 'me', 'who', 'ie', 'own', 'whose', 'how', 'between', 'besides'})\n"
     ]
    }
   ],
   "source": [
    "\n",
    "from sklearn.feature_extraction import stop_words\n",
    "print(stop_words.ENGLISH_STOP_WORDS)"
   ]
  },
  {
   "cell_type": "markdown",
   "metadata": {},
   "source": [
    "You should have seen a large list of words that looks like:\n",
    "\n",
    "```frozenset({'across', 'mine', 'cannot', ...})```\n",
    "\n",
    "`frozenset` is a type of Python object that is immutable. In this lab you can use it just like an array without conversion."
   ]
  },
  {
   "cell_type": "markdown",
   "metadata": {},
   "source": [
    "Next, test your function with supplying `stop_words.ENGLISH_STOP_WORDS` as the second parameter."
   ]
  },
  {
   "cell_type": "code",
   "execution_count": 39,
   "metadata": {},
   "outputs": [
    {
     "ename": "FileNotFoundError",
     "evalue": "[Errno 2] No such file or directory: 'bag_of_words'",
     "output_type": "error",
     "traceback": [
      "\u001b[0;31m---------------------------------------\u001b[0m",
      "\u001b[0;31mFileNotFoundError\u001b[0mTraceback (most recent call last)",
      "\u001b[0;32m<ipython-input-39-158d5d02aaa3>\u001b[0m in \u001b[0;36m<module>\u001b[0;34m\u001b[0m\n\u001b[0;32m----> 1\u001b[0;31m \u001b[0mbow\u001b[0m \u001b[0;34m=\u001b[0m \u001b[0mget_bow_from_docs\u001b[0m\u001b[0;34m(\u001b[0m\u001b[0mbow\u001b[0m\u001b[0;34m,\u001b[0m \u001b[0mstop_words\u001b[0m\u001b[0;34m.\u001b[0m\u001b[0mENGLISH_STOP_WORDS\u001b[0m\u001b[0;34m)\u001b[0m\u001b[0;34m\u001b[0m\u001b[0;34m\u001b[0m\u001b[0m\n\u001b[0m\u001b[1;32m      2\u001b[0m \u001b[0;34m\u001b[0m\u001b[0m\n\u001b[1;32m      3\u001b[0m \u001b[0mprint\u001b[0m\u001b[0;34m(\u001b[0m\u001b[0mbow\u001b[0m\u001b[0;34m)\u001b[0m\u001b[0;34m\u001b[0m\u001b[0;34m\u001b[0m\u001b[0m\n",
      "\u001b[0;32m<ipython-input-38-cd5110563e0a>\u001b[0m in \u001b[0;36mget_bow_from_docs\u001b[0;34m(docs, stop_words)\u001b[0m\n\u001b[1;32m     34\u001b[0m     \u001b[0;32mfor\u001b[0m \u001b[0mi\u001b[0m \u001b[0;32min\u001b[0m \u001b[0mdocs\u001b[0m\u001b[0;34m:\u001b[0m\u001b[0;34m\u001b[0m\u001b[0;34m\u001b[0m\u001b[0m\n\u001b[1;32m     35\u001b[0m         \u001b[0;31m# prepare reading\u001b[0m\u001b[0;34m\u001b[0m\u001b[0;34m\u001b[0m\u001b[0;34m\u001b[0m\u001b[0m\n\u001b[0;32m---> 36\u001b[0;31m         \u001b[0mfile\u001b[0m \u001b[0;34m=\u001b[0m \u001b[0mopen\u001b[0m\u001b[0;34m(\u001b[0m\u001b[0mi\u001b[0m\u001b[0;34m,\u001b[0m \u001b[0;34m\"r\"\u001b[0m\u001b[0;34m)\u001b[0m\u001b[0;34m\u001b[0m\u001b[0;34m\u001b[0m\u001b[0m\n\u001b[0m\u001b[1;32m     37\u001b[0m         \u001b[0;31m# reading it and adding it to corpus list\u001b[0m\u001b[0;34m\u001b[0m\u001b[0;34m\u001b[0m\u001b[0;34m\u001b[0m\u001b[0m\n\u001b[1;32m     38\u001b[0m         \u001b[0mcorpus\u001b[0m\u001b[0;34m.\u001b[0m\u001b[0mappend\u001b[0m\u001b[0;34m(\u001b[0m\u001b[0mfile\u001b[0m\u001b[0;34m.\u001b[0m\u001b[0mread\u001b[0m\u001b[0;34m(\u001b[0m\u001b[0;34m)\u001b[0m\u001b[0;34m)\u001b[0m\u001b[0;34m\u001b[0m\u001b[0;34m\u001b[0m\u001b[0m\n",
      "\u001b[0;31mFileNotFoundError\u001b[0m: [Errno 2] No such file or directory: 'bag_of_words'"
     ]
    }
   ],
   "source": [
    "bow = get_bow_from_docs(bow, stop_words.ENGLISH_STOP_WORDS)\n",
    "\n",
    "print(bow)"
   ]
  },
  {
   "cell_type": "markdown",
   "metadata": {},
   "source": [
    "You should have seen:\n",
    "\n",
    "```{'bag_of_words': ['ironhack', 'cool', 'love', 'student'], 'term_freq': [[1, 1, 0, 0], [1, 0, 1, 0], [1, 0, 0, 1]]}```"
   ]
  },
  {
   "cell_type": "code",
   "execution_count": 9,
   "metadata": {},
   "outputs": [
    {
     "ename": "FileNotFoundError",
     "evalue": "[Errno 2] No such file or directory: '../data'",
     "output_type": "error",
     "traceback": [
      "\u001b[0;31m---------------------------------------------------------------------------\u001b[0m",
      "\u001b[0;31mFileNotFoundError\u001b[0m                         Traceback (most recent call last)",
      "\u001b[0;32m<ipython-input-9-340742e2cbf8>\u001b[0m in \u001b[0;36m<module>\u001b[0;34m\u001b[0m\n\u001b[1;32m      2\u001b[0m \u001b[0;32mimport\u001b[0m \u001b[0mpandas\u001b[0m \u001b[0;32mas\u001b[0m \u001b[0mpd\u001b[0m\u001b[0;34m\u001b[0m\u001b[0;34m\u001b[0m\u001b[0m\n\u001b[1;32m      3\u001b[0m \u001b[0;34m\u001b[0m\u001b[0m\n\u001b[0;32m----> 4\u001b[0;31m \u001b[0mdocls\u001b[0m \u001b[0;34m=\u001b[0m \u001b[0;34m[\u001b[0m\u001b[0mf\u001b[0m \u001b[0;32mfor\u001b[0m \u001b[0mf\u001b[0m \u001b[0;32min\u001b[0m \u001b[0mos\u001b[0m\u001b[0;34m.\u001b[0m\u001b[0mlistdir\u001b[0m\u001b[0;34m(\u001b[0m\u001b[0;34m'../data'\u001b[0m\u001b[0;34m)\u001b[0m \u001b[0;32mif\u001b[0m \u001b[0mf\u001b[0m\u001b[0;34m.\u001b[0m\u001b[0mendswith\u001b[0m\u001b[0;34m(\u001b[0m\u001b[0;34m'.txt'\u001b[0m\u001b[0;34m)\u001b[0m\u001b[0;34m]\u001b[0m\u001b[0;34m\u001b[0m\u001b[0;34m\u001b[0m\u001b[0m\n\u001b[0m\u001b[1;32m      5\u001b[0m \u001b[0;34m\u001b[0m\u001b[0m\n\u001b[1;32m      6\u001b[0m \u001b[0mprint\u001b[0m \u001b[0;34m(\u001b[0m\u001b[0mdocls\u001b[0m\u001b[0;34m)\u001b[0m\u001b[0;34m\u001b[0m\u001b[0;34m\u001b[0m\u001b[0m\n",
      "\u001b[0;31mFileNotFoundError\u001b[0m: [Errno 2] No such file or directory: '../data'"
     ]
    }
   ],
   "source": []
  },
  {
   "cell_type": "code",
   "execution_count": 11,
   "metadata": {},
   "outputs": [
    {
     "data": {
      "text/plain": [
       "'/Users/greg/Desktop/Data lab Ironhack/data-labs/module-1/lab-functional-programming/your-code'"
      ]
     },
     "execution_count": 11,
     "metadata": {},
     "output_type": "execute_result"
    }
   ],
   "source": []
  },
  {
   "cell_type": "code",
   "execution_count": null,
   "metadata": {},
   "outputs": [],
   "source": []
  }
 ],
 "metadata": {
  "kernelspec": {
   "display_name": "Python 3",
   "language": "python",
   "name": "python3"
  },
  "language_info": {
   "codemirror_mode": {
    "name": "ipython",
    "version": 3
   },
   "file_extension": ".py",
   "mimetype": "text/x-python",
   "name": "python",
   "nbconvert_exporter": "python",
   "pygments_lexer": "ipython3",
   "version": "3.7.4"
  }
 },
 "nbformat": 4,
 "nbformat_minor": 2
}
